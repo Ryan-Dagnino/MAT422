{
  "nbformat": 4,
  "nbformat_minor": 0,
  "metadata": {
    "colab": {
      "provenance": [],
      "authorship_tag": "ABX9TyPdQv6Rb8pT39F/Jl5PB7yH",
      "include_colab_link": true
    },
    "kernelspec": {
      "name": "python3",
      "display_name": "Python 3"
    },
    "language_info": {
      "name": "python"
    }
  },
  "cells": [
    {
      "cell_type": "markdown",
      "metadata": {
        "id": "view-in-github",
        "colab_type": "text"
      },
      "source": [
        "<a href=\"https://colab.research.google.com/github/Ryan-Dagnino/MAT422/blob/main/MAT422_HW1_2.ipynb\" target=\"_parent\"><img src=\"https://colab.research.google.com/assets/colab-badge.svg\" alt=\"Open In Colab\"/></a>"
      ]
    },
    {
      "cell_type": "markdown",
      "source": [
        "# **Homework 1.2**"
      ],
      "metadata": {
        "id": "EkDx-naEEEpb"
      }
    },
    {
      "cell_type": "code",
      "execution_count": 56,
      "metadata": {
        "id": "oNvcHGFGD9Ct"
      },
      "outputs": [],
      "source": [
        "import numpy as np\n",
        "import numpy.linalg as la\n",
        "import matplotlib.pyplot as plt"
      ]
    },
    {
      "cell_type": "markdown",
      "source": [
        "Some examples of NumPy and how it can be used with matrices and vectors."
      ],
      "metadata": {
        "id": "E_rWC7OaHyql"
      }
    },
    {
      "cell_type": "code",
      "source": [
        "arr1 = np.array([0,1,2,3,4]) #Creates a new NumPy array\n",
        "print(arr1)\n",
        "\n",
        "arr2 = np.arange(0, 5) #Creates an array with the range from 0 to 4\n",
        "print(arr2)\n",
        "\n",
        "arr3 = np.zeros(5) #Creates n array of length 5 with just zeros\n",
        "print(arr3)"
      ],
      "metadata": {
        "colab": {
          "base_uri": "https://localhost:8080/"
        },
        "id": "nFuAZ9g3H3f8",
        "outputId": "88450ac1-17d0-4fd8-c76e-0605f8707893"
      },
      "execution_count": 57,
      "outputs": [
        {
          "output_type": "stream",
          "name": "stdout",
          "text": [
            "[0 1 2 3 4]\n",
            "[0 1 2 3 4]\n",
            "[0. 0. 0. 0. 0.]\n"
          ]
        }
      ]
    },
    {
      "cell_type": "markdown",
      "source": [
        "# **Linear Spaces**\n",
        "1.2.1.1 Linear Combinations\n",
        "\n",
        "A linear combination is the result of multiplying each vector by some constant and then adding them up.\n",
        "\n"
      ],
      "metadata": {
        "id": "aZ6t440EIxxy"
      }
    },
    {
      "cell_type": "code",
      "source": [
        "#Example of a linear combination\n",
        "vector1 = np.array([1,6,5])\n",
        "vector2 = np.array([2,1,7])\n",
        "\n",
        "print(\"Vectors: vector 1 =\", vector1, \"and vector 2 =\", vector2)\n",
        "\n",
        "linCombination = np.array(vector1 * 8 + vector2 * -1)\n",
        "print(\"The linear combination of 8x - y for the above vectors is\", linCombination)"
      ],
      "metadata": {
        "colab": {
          "base_uri": "https://localhost:8080/"
        },
        "id": "H_HWAuESJLPt",
        "outputId": "e455ee48-0263-47e3-fd21-be9a7623efdb"
      },
      "execution_count": 58,
      "outputs": [
        {
          "output_type": "stream",
          "name": "stdout",
          "text": [
            "Vectors: vector 1 = [1 6 5] and vector 2 = [2 1 7]\n",
            "The linear combination of 8x - y for the above vectors is [ 6 47 33]\n"
          ]
        }
      ]
    },
    {
      "cell_type": "markdown",
      "source": [
        "A linear subspace of *V* is a subset *U* ⊆ *V*  that is closed under vector additiona and scalar multiplication. Essentially it satisfies u1, u2 ∈ *U* and α ∈ ℝ: u1 + u2 ∈ *U* and α ⋅ u1 ∈ *U*"
      ],
      "metadata": {
        "id": "d_OePztu5xF7"
      }
    },
    {
      "cell_type": "markdown",
      "source": [
        "Let w1, … , w_m ∈ *V*. The span of \\{w1, …, w_m\\}, denoted by span(w1, …, w_m), is the set of all linear combinations of the w_j's."
      ],
      "metadata": {
        "id": "qA7Nvym079lN"
      }
    },
    {
      "cell_type": "code",
      "source": [
        "\n",
        "#Example of determining the span given 2 vectors\n",
        "vector1 = np.array([0,3])\n",
        "vector2 = np.array([1,2])\n",
        "\n",
        "print(vector1, vector2)\n",
        "print(\"Since the two vectors given are linearly independent, the span will be R^2\")"
      ],
      "metadata": {
        "colab": {
          "base_uri": "https://localhost:8080/"
        },
        "id": "JsQvfneP7JEc",
        "outputId": "5ec21643-d52f-4bf0-f9cb-273e90852b07"
      },
      "execution_count": 59,
      "outputs": [
        {
          "output_type": "stream",
          "name": "stdout",
          "text": [
            "[0 3] [1 2]\n",
            "Since the two vectors given are linearly independent, the span will be R^2\n"
          ]
        }
      ]
    },
    {
      "cell_type": "markdown",
      "source": [
        "1.2.1.2 Linear Independence and Dimension\n",
        "\n",
        "A list of vectors u1, …, u_m is linearly independent if none of them can be writtenas a linear combination of the others"
      ],
      "metadata": {
        "id": "6sEmCCOe_X5Z"
      }
    },
    {
      "cell_type": "code",
      "source": [
        "# Example showing linearly dependent vectors from scaling\n",
        "v1 = np.array([10,10])\n",
        "v2 = np.array([20,20])\n",
        "\n",
        "Matrix = np.array([[10,10], [20,20]])\n",
        "origin = np.array([[0,0],[0,0]])\n",
        "\n",
        "plt.quiver(*origin, Matrix[:,0], Matrix[:,1], color = ['k', 'r'], scale = 100)\n",
        "plt.show()\n",
        "\n",
        "print(\"Vector 2 is a multiple of vector 2, so they are linearly dependent\")"
      ],
      "metadata": {
        "colab": {
          "base_uri": "https://localhost:8080/",
          "height": 447
        },
        "id": "FaBuNk_tAIRD",
        "outputId": "45eedeed-d537-4241-8a46-111a84d29df7"
      },
      "execution_count": 60,
      "outputs": [
        {
          "output_type": "display_data",
          "data": {
            "text/plain": [
              "<Figure size 640x480 with 1 Axes>"
            ],
            "image/png": "[encoded data removed]"
          },
          "metadata": {}
        },
        {
          "output_type": "stream",
          "name": "stdout",
          "text": [
            "Vector 2 is a multiple of vector 2, so they are linearly dependent\n"
          ]
        }
      ]
    },
    {
      "cell_type": "markdown",
      "source": [
        "# **Orthogonality**\n",
        "\n",
        "1.2.2.1 Orthonormal Bases\n",
        "\n",
        "Two vectors are orthogonal to each other if their dot product is equal to 0."
      ],
      "metadata": {
        "id": "2SVFCMY7fzV1"
      }
    },
    {
      "cell_type": "code",
      "source": [
        "# Example showing two orthogonal vectors\n",
        "\n",
        "v1 = np.array([1,0,6])\n",
        "v2 = np.array([0,4,0])\n",
        "\n",
        "dp = np.dot(v1, v2)\n",
        "\n",
        "print(\"The dot product of\", v1, \"and\", v2, \"is\", dp)"
      ],
      "metadata": {
        "colab": {
          "base_uri": "https://localhost:8080/"
        },
        "id": "EiF3OQlmhMZ0",
        "outputId": "ddc5bb4e-0922-499b-8036-95341655a591"
      },
      "execution_count": 61,
      "outputs": [
        {
          "output_type": "stream",
          "name": "stdout",
          "text": [
            "The dot product of [1 0 6] and [0 4 0] is 0\n"
          ]
        }
      ]
    },
    {
      "cell_type": "markdown",
      "source": [
        "1.2.2.2 Best Approximation Theorem\n",
        "\n",
        "If we have a linear subspace 𝒰 ⊆ *V* and v ∉ 𝒰, we can find a vector **v*** in 𝒰 that is closest to v in the norm."
      ],
      "metadata": {
        "id": "kNartEhniVM7"
      }
    },
    {
      "cell_type": "code",
      "source": [
        "# Example of the best approximation theorem\n",
        "\n",
        "v1 = np.array([1,0])\n",
        "v2 = np.array([2,3])\n",
        "# We let U = span(v1) and v2 not in U\n",
        "\n",
        "v3 = np.array([0,3])\n",
        "origin = np.array([[0,0,0,0],[0,0,0,0]])\n",
        "vStar = np.dot(v1, v2) * v1\n",
        "\n",
        "m = np.array([v1, v3, v2, vStar])\n",
        "\n",
        "plt.quiver(*origin, m[:,0], m[:,1],color = ['k', 'r', 'b', 'g'], scale = 10)\n",
        "plt.show()\n",
        "print(\"The green line represents the v* we've approximated\")"
      ],
      "metadata": {
        "colab": {
          "base_uri": "https://localhost:8080/",
          "height": 447
        },
        "id": "bAfZ1NCqjOIe",
        "outputId": "08d5e201-be7a-411b-b7af-f56b3eea8f5a"
      },
      "execution_count": 63,
      "outputs": [
        {
          "output_type": "display_data",
          "data": {
            "text/plain": [
              "<Figure size 640x480 with 1 Axes>"
            ],
            "image/png": "[encoded data removed]"
          },
          "metadata": {}
        },
        {
          "output_type": "stream",
          "name": "stdout",
          "text": [
            "The green line represents the v* we've approximated\n"
          ]
        }
      ]
    },
    {
      "cell_type": "markdown",
      "source": [
        "# **Gram-Schmidt Process**\n",
        "\n",
        "Given 2 vectors, we can make them orthogonal"
      ],
      "metadata": {
        "id": "EiYcnm2kpjwb"
      }
    },
    {
      "cell_type": "code",
      "source": [
        "# Example using the Gram-Schmidt Orthogonalization Process\n",
        "\n",
        "v1 = np.array([1,3,1,2])\n",
        "v2 = np.array([-2,1,1,1])\n",
        "\n",
        "# Calculate e1 = v1 / ||v1||\n",
        "e1 = np.array(v1 / (np.sqrt(np.dot(v1,v1))))\n",
        "temp = np.array(v2 - (np.dot(v2,e1))*e1)\n",
        "e2 = np.array(temp / np.sqrt(np.dot(temp, temp)))\n",
        "\n",
        "print(e1, e2)\n",
        "print(\"The vectors e1 and e2 are now an orthonormal basis of the original vectors v1 and v2, and have the same span as the original linear subspace\")\n"
      ],
      "metadata": {
        "colab": {
          "base_uri": "https://localhost:8080/"
        },
        "id": "-vfdR00zqmZY",
        "outputId": "863dd198-5527-43d7-9c41-2c552ed573f6"
      },
      "execution_count": 64,
      "outputs": [
        {
          "output_type": "stream",
          "name": "stdout",
          "text": [
            "[0.25819889 0.77459667 0.25819889 0.51639778] [-0.93054694  0.08210708  0.3010593   0.19158319]\n",
            "The vectors e1 and e2 are now an orthonormal basis of the original vectors v1 and v2, and have the same span as the original linear subspace\n"
          ]
        }
      ]
    },
    {
      "cell_type": "markdown",
      "source": [
        "# **Eigenvalues and Eigenvectors**\n",
        "\n",
        "Let A ∈ ℝᵈˣᵈ be a square martix, then λ ∈ ℝ is an eigenvalue if there exists a nonzero vector x does not equal 0 such that **Ax = λx**"
      ],
      "metadata": {
        "id": "L9Q326KnvvdT"
      }
    },
    {
      "cell_type": "code",
      "source": [
        "# Example of an eigenvalue and eigenvector\n",
        "\n",
        "A = np.matrix([[1, 2], [-1, 5]])\n",
        "eigenvalues, eigenvectors = la.eig(A)\n",
        "print(\"These are the the eigenvalues:\", eigenvalues)\n",
        "print(\"These are the the eigenvectors in columns:\")\n",
        "eigenvectors"
      ],
      "metadata": {
        "colab": {
          "base_uri": "https://localhost:8080/"
        },
        "id": "_aOkW-8LonMH",
        "outputId": "058e7738-39e4-4ff3-bf6e-9a63e2ee7dbf"
      },
      "execution_count": 65,
      "outputs": [
        {
          "output_type": "stream",
          "name": "stdout",
          "text": [
            "These are the the eigenvalues: [1.58578644 4.41421356]\n",
            "These are the the eigenvectors in columns:\n"
          ]
        },
        {
          "output_type": "execute_result",
          "data": {
            "text/plain": [
              "matrix([[-0.95968298, -0.50544947],\n",
              "        [-0.28108464, -0.86285621]])"
            ]
          },
          "metadata": {},
          "execution_count": 65
        }
      ]
    }
  ]
}