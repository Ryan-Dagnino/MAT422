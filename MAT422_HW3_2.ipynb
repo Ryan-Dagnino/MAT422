{
  "nbformat": 4,
  "nbformat_minor": 0,
  "metadata": {
    "colab": {
      "provenance": [],
      "authorship_tag": "ABX9TyPK5ojld1nQpzeIOVKq0Bbv",
      "include_colab_link": true
    },
    "kernelspec": {
      "name": "python3",
      "display_name": "Python 3"
    },
    "language_info": {
      "name": "python"
    }
  },
  "cells": [
    {
      "cell_type": "markdown",
      "metadata": {
        "id": "view-in-github",
        "colab_type": "text"
      },
      "source": [
        "<a href=\"https://colab.research.google.com/github/Ryan-Dagnino/MAT422/blob/main/MAT422_HW3_2.ipynb\" target=\"_parent\"><img src=\"https://colab.research.google.com/assets/colab-badge.svg\" alt=\"Open In Colab\"/></a>"
      ]
    },
    {
      "cell_type": "markdown",
      "source": [
        "# **Homework 3.2**"
      ],
      "metadata": {
        "id": "FTbnmCV4SesQ"
      }
    },
    {
      "cell_type": "code",
      "execution_count": 11,
      "metadata": {
        "id": "GnoEkEeoSHkV"
      },
      "outputs": [],
      "source": [
        "import matplotlib.pyplot as plt\n",
        "import numpy as np\n",
        "from sympy import *"
      ]
    },
    {
      "cell_type": "markdown",
      "source": [
        "# **Limits and Continuity**"
      ],
      "metadata": {
        "id": "8DLLFLlYZBTr"
      }
    },
    {
      "cell_type": "code",
      "source": [
        "# Example of limit with f = 5 / (x^2) as x approaches 1\n",
        "\n",
        "x = Symbol('x')\n",
        "f = 5/(x**2)\n",
        "lim = limit(f, x, 1)\n",
        "print(\"The limit as x approaches 1 is: \",  lim)\n",
        "\n",
        "# Same example as above but the limit approaches 0\n",
        "\n",
        "x = Symbol('x')\n",
        "f = 5/(x**2)\n",
        "lim = limit(f, x, 0)\n",
        "print(\"The limit as x approaches 0 is: \",  lim)\n",
        "\n",
        "# Limit example with sin function as x approaches 3\n",
        "\n",
        "x = Symbol('x')\n",
        "f = sin(x)\n",
        "lim = limit(f, x, 3)\n",
        "print(\"The limit of the sin function as x approaches 1 is: \",  lim)"
      ],
      "metadata": {
        "colab": {
          "base_uri": "https://localhost:8080/"
        },
        "id": "_38x_7CfXzPs",
        "outputId": "e9fd090d-4156-4220-f4ce-0b30fe352d3e"
      },
      "execution_count": 10,
      "outputs": [
        {
          "output_type": "stream",
          "name": "stdout",
          "text": [
            "The limit as x approaches 1 is:  5\n",
            "The limit as x approaches 0 is:  oo\n",
            "The limit of the sin function as x approaches 1 is:  sin(3)\n"
          ]
        }
      ]
    },
    {
      "cell_type": "markdown",
      "source": [
        "# **Derivatives**"
      ],
      "metadata": {
        "id": "SrHFSzaWdfO5"
      }
    },
    {
      "cell_type": "code",
      "source": [
        "# Examples of derivatives using sympy\n",
        "\n",
        "x = Symbol('x')\n",
        "\n",
        "f = x**2\n",
        "ans = f.diff(x)\n",
        "\n",
        "print(\"The derivative of x^2 is: \", ans)\n",
        "\n",
        "# Same example as above but solving for when x = 5\n",
        "\n",
        "x = Symbol('x')\n",
        "\n",
        "f = x**2\n",
        "f1 = f.diff(x)\n",
        "newF = lambdify(x, f1)\n",
        "ans = newF(5)\n",
        "\n",
        "print(\"The derivative of x^2 evaluated at x = 5 is: \", ans)\n",
        "\n",
        "# Using sympy to caluculate power rule derivatives\n",
        "\n",
        "x = Symbol('x')\n",
        "\n",
        "f = x**7\n",
        "ans = f.diff(x)\n",
        "print(\"The derivative of x^7 is: \", ans)"
      ],
      "metadata": {
        "colab": {
          "base_uri": "https://localhost:8080/"
        },
        "id": "t_mAh8a7fO69",
        "outputId": "4df4e137-24dc-4e64-ac51-96e2be45d626"
      },
      "execution_count": 15,
      "outputs": [
        {
          "output_type": "stream",
          "name": "stdout",
          "text": [
            "The derivative of x^2 is:  2*x\n",
            "The derivative of x^2 evaluated at x = 5 is:  10\n",
            "The derivative of x^7 is:  7*x**6\n"
          ]
        }
      ]
    }
  ]
}