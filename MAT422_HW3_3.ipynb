{
  "nbformat": 4,
  "nbformat_minor": 0,
  "metadata": {
    "colab": {
      "provenance": [],
      "authorship_tag": "ABX9TyOJXJaeAb9JuqzxJEopsncK",
      "include_colab_link": true
    },
    "kernelspec": {
      "name": "python3",
      "display_name": "Python 3"
    },
    "language_info": {
      "name": "python"
    }
  },
  "cells": [
    {
      "cell_type": "markdown",
      "metadata": {
        "id": "view-in-github",
        "colab_type": "text"
      },
      "source": [
        "<a href=\"https://colab.research.google.com/github/Ryan-Dagnino/MAT422/blob/main/MAT422_HW3_3.ipynb\" target=\"_parent\"><img src=\"https://colab.research.google.com/assets/colab-badge.svg\" alt=\"Open In Colab\"/></a>"
      ]
    },
    {
      "cell_type": "markdown",
      "source": [
        "# **Homework 3.3**"
      ],
      "metadata": {
        "id": "MKyrdD3ypQx9"
      }
    },
    {
      "cell_type": "markdown",
      "source": [
        "# **Minimization**\n",
        "\n",
        "Using the scipy.optimize package, we are able to take advantage of the many functions provided within, such as a minimize function"
      ],
      "metadata": {
        "id": "XNbLVVy8zuJu"
      }
    },
    {
      "cell_type": "code",
      "execution_count": 7,
      "metadata": {
        "id": "izwJQX8youpQ"
      },
      "outputs": [],
      "source": [
        "import matplotlib.pyplot as plt\n",
        "import numpy as np\n",
        "from scipy.optimize import minimize\n",
        "from scipy.optimize import least_squares"
      ]
    },
    {
      "cell_type": "code",
      "source": [
        "# This example is from the scipy.optimization documentation for the minimize function\n",
        "# The example below uses the Rosenbrock function to demonstrate the minimization techniques of the minimize function\n",
        "\n",
        "def rosen(x):\n",
        "    \"\"\"The Rosenbrock function\"\"\"\n",
        "    return sum(100.0*(x[1:]-x[:-1]**2.0)**2.0 + (1-x[:-1])**2.0)\n",
        "\n",
        "x0 = np.array([1.3, 0.7, 0.8, 1.9, 1.2])\n",
        "res = minimize(rosen, x0, method='nelder-mead', options={'xatol': 1e-8, 'disp': True})\n",
        "\n",
        "print(res.x)"
      ],
      "metadata": {
        "colab": {
          "base_uri": "https://localhost:8080/"
        },
        "id": "kjXGYNGU2s_k",
        "outputId": "ea87f624-2f0d-42d1-d8d6-241812a864a2"
      },
      "execution_count": 4,
      "outputs": [
        {
          "output_type": "stream",
          "name": "stdout",
          "text": [
            "Optimization terminated successfully.\n",
            "         Current function value: 0.000000\n",
            "         Iterations: 339\n",
            "         Function evaluations: 571\n",
            "[1. 1. 1. 1. 1.]\n"
          ]
        }
      ]
    },
    {
      "cell_type": "markdown",
      "source": [
        "# **Gradient**\n",
        "\n",
        "Again, using the scipy.optimize package, we can minimize with the gradient"
      ],
      "metadata": {
        "id": "TG1FB6OQ4XFt"
      }
    },
    {
      "cell_type": "code",
      "source": [
        "# This example is from the scipy.optimization documentation for the gradient minimize function\n",
        "# The example below shows the rosenbrock function from before and computing the Hessian to minimize te function with the Newton-CG method\n",
        "\n",
        "def rosen_hess(x):\n",
        "    x = np.asarray(x)\n",
        "    H = np.diag(-400*x[:-1],1) - np.diag(400*x[:-1],-1)\n",
        "    diagonal = np.zeros_like(x)\n",
        "    diagonal[0] = 1200*x[0]**2-400*x[1]+2\n",
        "    diagonal[-1] = 200\n",
        "    diagonal[1:-1] = 202 + 1200*x[1:-1]**2 - 400*x[2:]\n",
        "    H = H + np.diag(diagonal)\n",
        "    return H\n",
        "\n",
        "def rosen_der(x):\n",
        "    xm = x[1:-1]\n",
        "    xm_m1 = x[:-2]\n",
        "    xm_p1 = x[2:]\n",
        "    der = np.zeros_like(x)\n",
        "    der[1:-1] = 200*(xm-xm_m1**2) - 400*(xm_p1 - xm**2)*xm - 2*(1-xm)\n",
        "    der[0] = -400*x[0]*(x[1]-x[0]**2) - 2*(1-x[0])\n",
        "    der[-1] = 200*(x[-1]-x[-2]**2)\n",
        "    return der\n",
        "\n",
        "res = minimize(rosen, x0, method='Newton-CG', jac=rosen_der, hess=rosen_hess, options={'xtol': 1e-8, 'disp': True})\n",
        "res.x"
      ],
      "metadata": {
        "colab": {
          "base_uri": "https://localhost:8080/"
        },
        "id": "DEsylLco7HMX",
        "outputId": "fc9e49ee-646d-4318-c61a-dfb6901baf68"
      },
      "execution_count": 6,
      "outputs": [
        {
          "output_type": "stream",
          "name": "stdout",
          "text": [
            "Optimization terminated successfully.\n",
            "         Current function value: 0.000000\n",
            "         Iterations: 24\n",
            "         Function evaluations: 33\n",
            "         Gradient evaluations: 33\n",
            "         Hessian evaluations: 24\n"
          ]
        },
        {
          "output_type": "execute_result",
          "data": {
            "text/plain": [
              "array([1.        , 1.        , 1.        , 0.99999999, 0.99999999])"
            ]
          },
          "metadata": {},
          "execution_count": 6
        }
      ]
    },
    {
      "cell_type": "markdown",
      "source": [
        "# **Least Squares**\n",
        "\n",
        "Scipy also includes functions for optimizing the least squares problem"
      ],
      "metadata": {
        "id": "-5bjAHdr8Py1"
      }
    },
    {
      "cell_type": "code",
      "source": [
        "# This example is from the scipy.optimization documentation for the least squares minimization function\n",
        "# The example shows how to implement the least squares scipy function and plots the data and fitted function\n",
        "\n",
        "def model(x, u):\n",
        "    return x[0] * (u ** 2 + x[1] * u) / (u ** 2 + x[2] * u + x[3])\n",
        "\n",
        "def fun(x, u, y):\n",
        "    return model(x, u) - y\n",
        "\n",
        "def jac(x, u, y):\n",
        "    J = np.empty((u.size, x.size))\n",
        "    den = u ** 2 + x[2] * u + x[3]\n",
        "    num = u ** 2 + x[1] * u\n",
        "    J[:, 0] = num / den\n",
        "    J[:, 1] = x[0] * u / den\n",
        "    J[:, 2] = -x[0] * num * u / den ** 2\n",
        "    J[:, 3] = -x[0] * num / den ** 2\n",
        "    return J\n",
        "\n",
        "u = np.array([4.0, 2.0, 1.0, 5.0e-1, 2.5e-1, 1.67e-1, 1.25e-1, 1.0e-1,\n",
        "              8.33e-2, 7.14e-2, 6.25e-2])\n",
        "y = np.array([1.957e-1, 1.947e-1, 1.735e-1, 1.6e-1, 8.44e-2, 6.27e-2,\n",
        "              4.56e-2, 3.42e-2, 3.23e-2, 2.35e-2, 2.46e-2])\n",
        "x0 = np.array([2.5, 3.9, 4.15, 3.9])\n",
        "res = least_squares(fun, x0, jac=jac, bounds=(0, 100), args=(u, y), verbose=1)\n",
        "res.x\n",
        "\n",
        "u_test = np.linspace(0, 5)\n",
        "y_test = model(res.x, u_test)\n",
        "plt.plot(u, y, 'o', markersize=4, label='data')\n",
        "plt.plot(u_test, y_test, label='fitted model')\n",
        "plt.xlabel(\"u\")\n",
        "plt.ylabel(\"y\")\n",
        "plt.legend(loc='lower right')\n",
        "plt.show()"
      ],
      "metadata": {
        "colab": {
          "base_uri": "https://localhost:8080/",
          "height": 484
        },
        "id": "liuocThG8Wol",
        "outputId": "812f8b64-cae2-4afd-e455-a739645a1c4b"
      },
      "execution_count": 8,
      "outputs": [
        {
          "output_type": "stream",
          "name": "stdout",
          "text": [
            "`ftol` termination condition is satisfied.\n",
            "Function evaluations 131, initial cost 4.4383e+00, final cost 1.5375e-04, first-order optimality 4.52e-08.\n"
          ]
        },
        {
          "output_type": "display_data",
          "data": {
            "text/plain": [
              "<Figure size 640x480 with 1 Axes>"
            ],
            "image/png": "[encoded data removed]"
          },
          "metadata": {}
        }
      ]
    }
  ]
}